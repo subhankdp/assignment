{
  "nbformat": 4,
  "nbformat_minor": 0,
  "metadata": {
    "colab": {
      "provenance": []
    },
    "kernelspec": {
      "name": "python3",
      "display_name": "Python 3"
    },
    "language_info": {
      "name": "python"
    }
  },
  "cells": [
    {
      "cell_type": "code",
      "execution_count": 16,
      "metadata": {
        "colab": {
          "base_uri": "https://localhost:8080/"
        },
        "id": "pIh1mJ5A9WyB",
        "outputId": "a858a67c-c710-40f3-fc6d-bc322fb712cf"
      },
      "outputs": [
        {
          "output_type": "stream",
          "name": "stdout",
          "text": [
            "True\n",
            "False\n"
          ]
        }
      ],
      "source": [
        "A = frozenset([1, 2, 3, 4])\n",
        "B = frozenset([3, 4, 5, 6])\n",
        "print(1 in A)\n",
        "print (8 in B)"
      ]
    },
    {
      "cell_type": "code",
      "source": [
        "A = frozenset([1, 2, 3, 4])\n",
        "B = frozenset([3, 4, 5, 6])\n",
        "c = A.copy()\n",
        "print(c)"
      ],
      "metadata": {
        "colab": {
          "base_uri": "https://localhost:8080/"
        },
        "id": "W-EoPfxGBBQc",
        "outputId": "6f7b59f6-a0f6-4840-9d61-78725fb2a11a"
      },
      "execution_count": 21,
      "outputs": [
        {
          "output_type": "stream",
          "name": "stdout",
          "text": [
            "frozenset({1, 2, 3, 4})\n"
          ]
        }
      ]
    },
    {
      "cell_type": "code",
      "source": [
        "A = {1, 2, 3, 4, 8}\n",
        "B = {9, 3, 4, 6, 8}\n",
        "print (A.difference(B))\n",
        "print (B.difference(A))"
      ],
      "metadata": {
        "colab": {
          "base_uri": "https://localhost:8080/"
        },
        "id": "CF5Rn1k8DGRf",
        "outputId": "50a9ea68-108a-4b17-940a-327835b6a7f6"
      },
      "execution_count": 23,
      "outputs": [
        {
          "output_type": "stream",
          "name": "stdout",
          "text": [
            "{1, 2}\n",
            "{9, 6}\n"
          ]
        }
      ]
    },
    {
      "cell_type": "code",
      "source": [
        "A1 = {3, 4, 5}\n",
        "A2 = {3, 5}\n",
        "print(A1.intersection(A2))"
      ],
      "metadata": {
        "colab": {
          "base_uri": "https://localhost:8080/"
        },
        "id": "klCVGhO3D5Lt",
        "outputId": "35e27974-9d24-4e03-881f-ba75a5c64b54"
      },
      "execution_count": 25,
      "outputs": [
        {
          "output_type": "stream",
          "name": "stdout",
          "text": [
            "{3, 5}\n"
          ]
        }
      ]
    },
    {
      "cell_type": "code",
      "source": [
        "list1 = [1, 2, 3]\n",
        "list2 = [2, 3, 4]\n",
        "list3 = [3, 4, 5]\n",
        "set1 = set(list1)\n",
        "set2 = set(list2)\n",
        "print(set1.symmetric_difference(set2))"
      ],
      "metadata": {
        "colab": {
          "base_uri": "https://localhost:8080/"
        },
        "id": "ADolH1_QESPn",
        "outputId": "0c6a392a-922a-41d8-fb54-3d9894545486"
      },
      "execution_count": 26,
      "outputs": [
        {
          "output_type": "stream",
          "name": "stdout",
          "text": [
            "{1, 4}\n"
          ]
        }
      ]
    },
    {
      "cell_type": "code",
      "source": [
        "list1 = [1, 2, 3]\n",
        "list2 = [2, 3, 4]\n",
        "list3 = [3, 4, 5]\n",
        "set1 = set(list1)\n",
        "set2 = set(list2)\n",
        "print(set2.symmetric_difference(list3))"
      ],
      "metadata": {
        "colab": {
          "base_uri": "https://localhost:8080/"
        },
        "id": "QZMdz81sEu2X",
        "outputId": "c17df0d1-52f7-48a2-a004-1e95a7c28412"
      },
      "execution_count": 27,
      "outputs": [
        {
          "output_type": "stream",
          "name": "stdout",
          "text": [
            "{2, 5}\n"
          ]
        }
      ]
    },
    {
      "cell_type": "code",
      "source": [
        "A = {2, 4, 5, 6}\n",
        "B = {4, 6, 7, 8}\n",
        "\n",
        "print(\"A U B:\", A.union(B))"
      ],
      "metadata": {
        "colab": {
          "base_uri": "https://localhost:8080/"
        },
        "id": "QcEOlp3cE9iT",
        "outputId": "aa6a8016-5da7-474b-a9e2-29c7f3cfa196"
      },
      "execution_count": 28,
      "outputs": [
        {
          "output_type": "stream",
          "name": "stdout",
          "text": [
            "A U B: {2, 4, 5, 6, 7, 8}\n"
          ]
        }
      ]
    },
    {
      "cell_type": "code",
      "source": [
        "A = {1, 3, 4, 5}\n",
        "B = {1, 0, 4, 6, 3, 5, 0, 5}\n",
        "\n",
        "print(\"A.issuperset(B) : \", A.issuperset(B))\n",
        "print(\"B.issuperset(A) : \", B.issuperset(A))"
      ],
      "metadata": {
        "colab": {
          "base_uri": "https://localhost:8080/"
        },
        "id": "aorsEXuyFJ8H",
        "outputId": "e1650758-1e40-4c91-f448-d099e85406b4"
      },
      "execution_count": 29,
      "outputs": [
        {
          "output_type": "stream",
          "name": "stdout",
          "text": [
            "A.issuperset(B) :  False\n",
            "B.issuperset(A) :  True\n"
          ]
        }
      ]
    },
    {
      "cell_type": "code",
      "source": [
        "A = {1, 2, 3, 4, 5}\n",
        "B = {4, 5}\n",
        "print(B.issubset(A))"
      ],
      "metadata": {
        "colab": {
          "base_uri": "https://localhost:8080/"
        },
        "id": "cUSQyDb4FrDn",
        "outputId": "aa68cba9-1eb8-4a27-b808-6552c4629735"
      },
      "execution_count": 30,
      "outputs": [
        {
          "output_type": "stream",
          "name": "stdout",
          "text": [
            "True\n"
          ]
        }
      ]
    },
    {
      "cell_type": "code",
      "source": [
        "A = {1, 2, 3}\n",
        "B = {4, 5, 6}\n",
        "print(A.isdisjoint(B))"
      ],
      "metadata": {
        "colab": {
          "base_uri": "https://localhost:8080/"
        },
        "id": "j9ft15HeF8U1",
        "outputId": "acb1d702-acc7-4dc8-aad1-2daad47bf105"
      },
      "execution_count": 31,
      "outputs": [
        {
          "output_type": "stream",
          "name": "stdout",
          "text": [
            "True\n"
          ]
        }
      ]
    }
  ]
}